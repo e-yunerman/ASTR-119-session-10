{
 "cells": [
  {
   "cell_type": "code",
   "execution_count": null,
   "metadata": {},
   "outputs": [],
   "source": [
    "%matplotlib inline\n",
    "import numpy as np\n",
    "import matplotlib.pyplot as plt"
   ]
  },
  {
   "cell_type": "markdown",
   "metadata": {},
   "source": [
    "# Let's use the Traezoid Method, Simpson's Rule, and Romberg Integration"
   ]
  },
  {
   "cell_type": "code",
   "execution_count": null,
   "metadata": {},
   "outputs": [],
   "source": [
    "def func(x):\n",
    "    a = 1.01 \n",
    "    b = -3.04\n",
    "    c = 2.07\n",
    "    return a*x**2 + b*x + c\n",
    "\n",
    "def func_integral(x):\n",
    "    a = 1.01\n",
    "    b = -3.04\n",
    "    c = 2.07\n",
    "    return (a*x**3)/3 + (b*x**2)/2 + c*x\n"
   ]
  },
  {
   "cell_type": "code",
   "execution_count": null,
   "metadata": {},
   "outputs": [],
   "source": [
    "#TRAPEZOID METHOD\n",
    "def trapezoid_core(f, x, h):\n",
    "    return 0.5 * h * (f(x+h) + f(x))"
   ]
  },
  {
   "cell_type": "code",
   "execution_count": null,
   "metadata": {},
   "outputs": [],
   "source": [
    "def trapezoid_method(f, a, b, N):\n",
    "    #f is the function to integrate\n",
    "    #a is the lower limit of integration\n",
    "    #b is the upper limit of integration\n",
    "    #N is the number of Fuction evaluations to use\n",
    "    #number of chuncks is N-1\n",
    "    \n",
    "    #define x values to perform trapezoid rule\n",
    "    x = np.linspace(a,b,N)\n",
    "    h = x[1] - x[0]\n",
    "    \n",
    "    #define the value of the integral\n",
    "    Fint = 0.0\n",
    "    \n",
    "    #perform the integral using the trapezoid rule\n",
    "    for i in range(0, len(x)-1, 1):\n",
    "        Fint += trapezoid_core(f, x[i], h)\n",
    "    \n",
    "    return Fint"
   ]
  },
  {
   "cell_type": "code",
   "execution_count": null,
   "metadata": {},
   "outputs": [],
   "source": [
    "#SIMPSONS METHOD\n",
    "def simpson_core(f, x, h):\n",
    "    return h * (f(x) + 4*f(x + h) + f(x + 2*h))/3."
   ]
  },
  {
   "cell_type": "code",
   "execution_count": null,
   "metadata": {},
   "outputs": [],
   "source": [
    "def simpsons_method(f, a, b, N):\n",
    "    #f is the function to integrate\n",
    "    #a is the lower limit of integration\n",
    "    #b is the upper limit of integration\n",
    "    #N is the number of Fuction evaluations to use\n",
    "    #number of chuncks is N-1\n",
    "    \n",
    "     #define x values to perform trapezoid rule\n",
    "    x = np.linspace(a,b,N)\n",
    "    h = x[1] - x[0]\n",
    "    \n",
    "    #define the value of the integral\n",
    "    Fint = 0.0\n",
    "    \n",
    "    #if N is odd or even, we have different numbers of chunks to add\n",
    "    if((N%2) == 0):\n",
    "        lim = 3\n",
    "    else:\n",
    "        lim = 2\n",
    "        \n",
    "    #perform the integral using simpson's method\n",
    "    for i in range(0, len(x) - 2, 2):\n",
    "        Fint += simpson_core(f, x[i], h)\n",
    "        print(i, i+2, x[i] + h, x[i] + 2*h, x[-2], x[-1])\n",
    "        \n",
    "    #applu simpson's rule over the last interval if N is even\n",
    "    if((N%2) == 0):\n",
    "        Fint += simpson_core(f, x[-2], 0.5 * h)\n",
    "        \n",
    "    return Fint"
   ]
  },
  {
   "cell_type": "code",
   "execution_count": null,
   "metadata": {},
   "outputs": [],
   "source": [
    "#ROMBERG INTEGRATION\n",
    "def romberg_core(f, a, b, i):\n",
    "    #we need the difference between b - a\n",
    "    h = b - a\n",
    "    \n",
    "    #and the incrememnt between new function evaluations\n",
    "    dh = h/2.**(i)\n",
    "    \n",
    "    #we need a cofactor\n",
    "    K = h/2.**(i+1)\n",
    "    \n",
    "    #and the function evaluations\n",
    "    M = 0.0\n",
    "    for j in range(2**i):\n",
    "        M += f(a + 0.5*dh + j*dh)\n",
    "        \n",
    "    return K*M"
   ]
  },
  {
   "cell_type": "code",
   "execution_count": null,
   "metadata": {},
   "outputs": [],
   "source": [
    "def romberg_integration(f, a, b, tol):\n",
    "    #define an iteration variable\n",
    "    i = 0\n",
    "    \n",
    "    #define a max number of iterations\n",
    "    imax = 100\n",
    "    \n",
    "    #define an error estimate, set to a larger value\n",
    "    delta = 100.0*np.fabs(tol)\n",
    "    \n",
    "    #set an array of integral answers\n",
    "    I = np.zeros(imax, dtype = float)\n",
    "    \n",
    "    #get the zeroth romberg iteration\n",
    "    I[0] = 0.5 * (b-a) * (f(a) + f(b))\n",
    "    \n",
    "    #iterate by 1\n",
    "    i+=1\n",
    "    \n",
    "    while(delta > tol):\n",
    "        \n",
    "        #find this romberg iteration\n",
    "        I[i] = 0.5*I[i -1] + romberg_core(f, a, b, i)\n",
    "        \n",
    "        #compute the new fractional error estimate\n",
    "        delta = np.fabs((I[i] - I[i-1]) / I[i])\n",
    "        \n",
    "        print(i, I[i], I[i - 1], delta)\n",
    "        \n",
    "        if(delta > tol):\n",
    "            \n",
    "            #iterate\n",
    "            i += 1\n",
    "            \n",
    "            #if we've reached the maximum iterations\n",
    "            if(i > imax):\n",
    "                print(\"Max iterations reached.\")\n",
    "                raise StopIteration('Stopping iterations after ', i)\n",
    "                \n",
    "    return I[i]"
   ]
  },
  {
   "cell_type": "code",
   "execution_count": null,
   "metadata": {},
   "outputs": [],
   "source": [
    "Answer = func_integral(1) - func_integral(0)\n",
    "print(Answer)\n",
    "print(\"Trapezoid\")\n",
    "print(trapezoid_method(func, 0,  1, 10))\n",
    "print(\"Simpson's Method\")\n",
    "print(simpsons_method(func, 0, 1, 10))\n",
    "print(\"Romberg\")\n",
    "tolerance = 1.0e-6\n",
    "RI = romberg_integration(func, 0, 1, tolerance)\n",
    "print(RI, (RI - Answer)/Answer, tolerance)"
   ]
  },
  {
   "cell_type": "code",
   "execution_count": null,
   "metadata": {},
   "outputs": [],
   "source": [
    "x = np.linspace(0, np.pi, 1000)\n",
    "plt.figure(figsize = (8, 7))\n",
    "plt.plot(x, func(x), label = \"Function\")\n",
    "plt.plot(x, func_integral(x), label = \"Integral\")\n",
    "plt.grid()\n",
    "plt.legend(loc = 'best')"
   ]
  },
  {
   "cell_type": "code",
   "execution_count": null,
   "metadata": {},
   "outputs": [],
   "source": []
  }
 ],
 "metadata": {
  "kernelspec": {
   "display_name": "Python 3",
   "language": "python",
   "name": "python3"
  },
  "language_info": {
   "codemirror_mode": {
    "name": "ipython",
    "version": 3
   },
   "file_extension": ".py",
   "mimetype": "text/x-python",
   "name": "python",
   "nbconvert_exporter": "python",
   "pygments_lexer": "ipython3",
   "version": "3.6.5"
  }
 },
 "nbformat": 4,
 "nbformat_minor": 2
}
